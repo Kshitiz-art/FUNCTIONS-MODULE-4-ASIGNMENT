{
  "nbformat": 4,
  "nbformat_minor": 0,
  "metadata": {
    "colab": {
      "provenance": []
    },
    "kernelspec": {
      "name": "python3",
      "display_name": "Python 3"
    },
    "language_info": {
      "name": "python"
    }
  },
  "cells": [
    {
      "cell_type": "markdown",
      "source": [
        "Que 1  What is the difference between a function and a method in Python?\n",
        "\n",
        "---\n",
        "\n",
        "\n",
        "\n",
        "Ans   . A function is a block of reusable code that performs a specific task and\n",
        "       is defined using the def keyword.\n",
        "\n",
        "     .  A method is a function that is associated with an object and is called\n",
        "        on an instance of a class.\n",
        "                                          Example"
      ],
      "metadata": {
        "id": "4swgSAL63mbj"
      }
    },
    {
      "cell_type": "code",
      "source": [
        "def greet():    #function\n",
        "    print(\"Hello!\")\n",
        "\n",
        "class Person:\n",
        "    def say_hello(self):  # Method\n",
        "        print(\"Hello from a method!\")"
      ],
      "metadata": {
        "id": "SFn0TOxJ-p4x"
      },
      "execution_count": null,
      "outputs": []
    },
    {
      "cell_type": "markdown",
      "source": [
        "Que 2 . Explain the concept of function arguments and parameters in Python.?\n",
        "\n",
        "---\n",
        "\n",
        "\n",
        "\n",
        "Ans   .  Parameters are variables listed in the function definition.\n",
        "\n",
        "      .  Arguments are values passed to the function when calling it.\n",
        "\n",
        "Example:"
      ],
      "metadata": {
        "id": "avVCsLdA3quw"
      }
    },
    {
      "cell_type": "code",
      "source": [
        "def add(a, b):\n",
        "    return a + b\n",
        "print(add(3, 4))"
      ],
      "metadata": {
        "colab": {
          "base_uri": "https://localhost:8080/"
        },
        "id": "8635NQcm_YC9",
        "outputId": "37d121a2-a6c6-4037-e348-ede89dde026d"
      },
      "execution_count": null,
      "outputs": [
        {
          "output_type": "stream",
          "name": "stdout",
          "text": [
            "7\n"
          ]
        }
      ]
    },
    {
      "cell_type": "markdown",
      "source": [
        "Que 3  What are the different ways to define and call a function in Python?\n",
        "\n",
        "Ans  (1). Functions can be defined using def or as anonymous functions using\n",
        "lambda.\n",
        "     (2)  They can be called using their name with parentheses.\n",
        "     Example:"
      ],
      "metadata": {
        "id": "zUuXq2iT3uSA"
      }
    },
    {
      "cell_type": "code",
      "source": [
        "def square(x):\n",
        "    return x * x\n",
        "print(square(5))"
      ],
      "metadata": {
        "colab": {
          "base_uri": "https://localhost:8080/"
        },
        "id": "v0e9TfcU_9v7",
        "outputId": "d8c4f9a5-65a9-4963-f1ab-d4f947b0c979"
      },
      "execution_count": null,
      "outputs": [
        {
          "output_type": "stream",
          "name": "stdout",
          "text": [
            "25\n"
          ]
        }
      ]
    },
    {
      "cell_type": "markdown",
      "source": [
        "Que 4 . . What is the purpose of the `return` statement in a Python function?\n",
        "\n",
        "Ans  The return statement is used to send a value back from a function.\n",
        "\n",
        "\n",
        "\n",
        "\n",
        "\n",
        "Example:"
      ],
      "metadata": {
        "id": "q7Kf1fQ93v69"
      }
    },
    {
      "cell_type": "code",
      "source": [
        "def multiply(x, y):\n",
        "    return x * y\n",
        "result = multiply(4, 5)\n",
        "print(result)"
      ],
      "metadata": {
        "colab": {
          "base_uri": "https://localhost:8080/"
        },
        "id": "-fKV_FX9AI4r",
        "outputId": "dfe45168-e19d-4a38-a117-1a1497b02c6e"
      },
      "execution_count": null,
      "outputs": [
        {
          "output_type": "stream",
          "name": "stdout",
          "text": [
            "20\n"
          ]
        }
      ]
    },
    {
      "cell_type": "markdown",
      "source": [
        "Que 5 . What are iterators in Python and how do they differ from iterables?\n",
        "\n",
        "---\n",
        "\n",
        "\n",
        "\n",
        "Ans (1) An iterable is an object that can return an iterator (e.g., lists, tuples).\n",
        "  (2)  An iterator is an object that produces values one at a time using __next__().\n",
        "\n",
        "Example:"
      ],
      "metadata": {
        "id": "FjNQuPbj9dzD"
      }
    },
    {
      "cell_type": "code",
      "source": [
        "my_list = [1, 2, 3]\n",
        "iterator = iter(my_list)\n",
        "print(next(iterator))"
      ],
      "metadata": {
        "colab": {
          "base_uri": "https://localhost:8080/"
        },
        "id": "gR02zmL1Ad0V",
        "outputId": "fb8c595c-f1f9-4ae5-82ea-813dfbbc2f1c"
      },
      "execution_count": null,
      "outputs": [
        {
          "output_type": "stream",
          "name": "stdout",
          "text": [
            "1\n"
          ]
        }
      ]
    },
    {
      "cell_type": "markdown",
      "source": [
        "Que 6  Explain the concept of generators in Python and how they are defined.\n",
        "\n",
        "---\n",
        "\n",
        "\n",
        "\n",
        "Ans   A generator is a function that yields values using yield instead of return.\n",
        "\n",
        "Example:"
      ],
      "metadata": {
        "id": "KgPQ01ws9fxj"
      }
    },
    {
      "cell_type": "code",
      "source": [
        "def count_up():\n",
        "    for i in range(3):\n",
        "        yield i\n",
        "gen = count_up()\n",
        "print(next(gen))"
      ],
      "metadata": {
        "colab": {
          "base_uri": "https://localhost:8080/"
        },
        "id": "3MuQoJkxAsIK",
        "outputId": "5547d0b7-7014-402c-e434-df763c329ab9"
      },
      "execution_count": null,
      "outputs": [
        {
          "output_type": "stream",
          "name": "stdout",
          "text": [
            "0\n"
          ]
        }
      ]
    },
    {
      "cell_type": "markdown",
      "source": [
        "Que 7  What are the advantages of using generators over regular functions?\n",
        "\n",
        "---\n",
        "\n",
        "\n",
        "\n",
        "Ans   1  Saves memory (doesn’t store all values in memory at once).\n",
        "\n",
        "      2 Allows lazy evaluation (values are generated on demand).\n",
        "\n",
        "         Example:"
      ],
      "metadata": {
        "id": "xRX6l0xm9hGb"
      }
    },
    {
      "cell_type": "code",
      "source": [
        "def even_numbers():\n",
        "    for i in range(0, 10, 2):\n",
        "        yield i"
      ],
      "metadata": {
        "id": "vDtBwDZqA8TO"
      },
      "execution_count": null,
      "outputs": []
    },
    {
      "cell_type": "markdown",
      "source": [
        "Que 8  What is a lambda function in Python and when is it typically used?\n",
        "\n",
        "---\n",
        "\n",
        "\n",
        "\n",
        "Ans  A lambda function is a small anonymous function that can take any number of arguments but has a single expression.\n",
        "\n",
        "Example:\n",
        "\n"
      ],
      "metadata": {
        "id": "J-uVTzQc9ie8"
      }
    },
    {
      "cell_type": "code",
      "execution_count": null,
      "metadata": {
        "id": "sX-1eyRt3I2i",
        "colab": {
          "base_uri": "https://localhost:8080/"
        },
        "outputId": "0b52a6c2-73e1-492a-8c14-465bf512e550"
      },
      "outputs": [
        {
          "output_type": "stream",
          "name": "stdout",
          "text": [
            "25\n"
          ]
        }
      ],
      "source": [
        "square = lambda x: x * x\n",
        "print(square(5))  # Output: 25"
      ]
    },
    {
      "cell_type": "markdown",
      "source": [
        "Que 9  Explain the purpose and usage of the `map()` function in Python.\n",
        "\n",
        "---\n",
        "\n",
        "\n",
        "\n",
        "Ans  The map() function applies a given function to all items in an iterable.\n",
        "\n",
        "Example:"
      ],
      "metadata": {
        "id": "qF_5t_pK9kCn"
      }
    },
    {
      "cell_type": "code",
      "source": [
        "nums = [1, 2, 3]\n",
        "squares = list(map(lambda x: x**2, nums))\n",
        "print(squares)"
      ],
      "metadata": {
        "colab": {
          "base_uri": "https://localhost:8080/"
        },
        "id": "trQIFFs5BaHb",
        "outputId": "5ef0ae31-cd9b-4581-ba04-80d3ec1171be"
      },
      "execution_count": null,
      "outputs": [
        {
          "output_type": "stream",
          "name": "stdout",
          "text": [
            "[1, 4, 9]\n"
          ]
        }
      ]
    },
    {
      "cell_type": "markdown",
      "source": [
        "Que 10  What is the difference between `map()`, `reduce()`, and `filter()`\n",
        "\n",
        "---\n",
        "\n",
        "functions in Python?\n",
        "\n",
        "Ans     1   map(): Applies a function to each item.\n",
        "\n",
        "        2  reduce(): Applies a function cumulatively to items (needs functools.reduce).\n",
        "\n",
        "        3  filter(): Returns elements that satisfy a condition.\n",
        "\n",
        "Example:"
      ],
      "metadata": {
        "id": "71A52saG9m3d"
      }
    },
    {
      "cell_type": "code",
      "source": [
        "from functools import reduce\n",
        "nums = [1, 2, 3, 4]\n",
        "sum_all = reduce(lambda x, y: x + y, nums)\n",
        "print(sum_all)"
      ],
      "metadata": {
        "colab": {
          "base_uri": "https://localhost:8080/"
        },
        "id": "q2V--7MkBqEb",
        "outputId": "94520ddd-e8c7-4a1d-b64e-06eabd0a1e23"
      },
      "execution_count": null,
      "outputs": [
        {
          "output_type": "stream",
          "name": "stdout",
          "text": [
            "10\n"
          ]
        }
      ]
    },
    {
      "cell_type": "markdown",
      "source": [
        "Que 11 Using pen & Paper write the internal mechanism for sum operation using  \n",
        "\n",
        "---\n",
        "\n",
        "reduce function on this given\n",
        "list:[47,11,42,13];\n",
        "\n",
        "Ans  Step by step execution:"
      ],
      "metadata": {
        "id": "f7WZJJO89pIU"
      }
    },
    {
      "cell_type": "markdown",
      "source": [],
      "metadata": {
        "id": "VN4By-8I9mCK"
      }
    },
    {
      "cell_type": "code",
      "source": [
        "from functools import reduce\n",
        "reduce(lambda x, y: x + y, [47, 11, 42, 13])\n",
        "#Step1: (47 + 11)  -> 58\n",
        "#Step2: (58 + 42)  -> 100\n",
        "#Step3: (100 + 13) -> 113"
      ],
      "metadata": {
        "colab": {
          "base_uri": "https://localhost:8080/"
        },
        "id": "u9PaUYUVBzaJ",
        "outputId": "7f8d6390-0d43-4f0d-8be9-3a618fff456f"
      },
      "execution_count": null,
      "outputs": [
        {
          "output_type": "execute_result",
          "data": {
            "text/plain": [
              "113"
            ]
          },
          "metadata": {},
          "execution_count": 12
        }
      ]
    },
    {
      "cell_type": "markdown",
      "source": [
        "                                             NUMERICAL QUESTION"
      ],
      "metadata": {
        "id": "vmRL9MnfCRew"
      }
    },
    {
      "cell_type": "markdown",
      "source": [
        "Que 1 . Write a Python function that takes a list of numbers as input and returns the sum of all even numbers in\n",
        "the list?"
      ],
      "metadata": {
        "id": "gj0hOfRhCYQt"
      }
    },
    {
      "cell_type": "code",
      "source": [
        "def sum_even_numbers(numbers):\n",
        "    total = 0\n",
        "    for num in numbers:\n",
        "        if num % 2 == 0:\n",
        "            total += num\n",
        "    return total\n",
        "\n",
        "# Example usage:\n",
        "numbers = [1, 2, 3, 4, 5, 6]\n",
        "print(sum_even_numbers(numbers))  # Output will be 12\n"
      ],
      "metadata": {
        "colab": {
          "base_uri": "https://localhost:8080/"
        },
        "id": "M_zGJtTA8m2y",
        "outputId": "281064bc-83db-4eb7-ae9f-aceaf3d66f4c"
      },
      "execution_count": null,
      "outputs": [
        {
          "output_type": "stream",
          "name": "stdout",
          "text": [
            "12\n"
          ]
        }
      ]
    },
    {
      "cell_type": "markdown",
      "source": [
        "Que 2 . Create a Python function that accepts a string and returns the reverse of that string."
      ],
      "metadata": {
        "id": "di-lvXOyLIP_"
      }
    },
    {
      "cell_type": "code",
      "source": [
        "def reverse_string(input_string):\n",
        "    return input_string[::-1]\n",
        "\n",
        "# Example usage:\n",
        "sample_string = \"Hello, world!\"\n",
        "print(reverse_string(sample_string))  # Output will be !dlrow ,olleH\n"
      ],
      "metadata": {
        "colab": {
          "base_uri": "https://localhost:8080/"
        },
        "id": "Qq26AEBR8pRz",
        "outputId": "fd7bd4f4-14a0-442e-9b4a-c3946c32ca2f"
      },
      "execution_count": null,
      "outputs": [
        {
          "output_type": "stream",
          "name": "stdout",
          "text": [
            "!dlrow ,olleH\n"
          ]
        }
      ]
    },
    {
      "cell_type": "markdown",
      "source": [
        "Que 3  Implement a Python function that takes a list of integers and returns a new list containing the squares of\n",
        "each number.?\n",
        "\n",
        "\n",
        "\n"
      ],
      "metadata": {
        "id": "gNV18dLgLKSq"
      }
    },
    {
      "cell_type": "code",
      "source": [
        "def square_numbers(numbers):\n",
        "    return [num ** 2 for num in numbers]\n",
        "\n",
        "# Example usage:\n",
        "numbers = [1, 2, 3, 4, 5]\n",
        "print(square_numbers(numbers))  # Output will be [1, 4, 9, 16, 25]\n"
      ],
      "metadata": {
        "colab": {
          "base_uri": "https://localhost:8080/"
        },
        "id": "KAR9HSJ682Bj",
        "outputId": "b1f4343f-0533-4017-c8c7-fae0fe8b20b9"
      },
      "execution_count": null,
      "outputs": [
        {
          "output_type": "stream",
          "name": "stdout",
          "text": [
            "[1, 4, 9, 16, 25]\n"
          ]
        }
      ]
    },
    {
      "cell_type": "markdown",
      "source": [
        "Que 4  Write a Python function that checks if a given number is prime or not from 1 to 200."
      ],
      "metadata": {
        "id": "jA4q9bsKLQUt"
      }
    },
    {
      "cell_type": "code",
      "source": [
        "def is_prime(num):\n",
        "    if num <= 1:\n",
        "        return False\n",
        "    for i in range(2, int(num ** 0.5) + 1):\n",
        "        if num % i == 0:\n",
        "            return False\n",
        "    return True\n",
        "\n",
        "# Example usage:\n",
        "for number in range(1, 201):\n",
        "    if is_prime(number):\n",
        "        print(f\"{number} is a prime number.\")\n"
      ],
      "metadata": {
        "colab": {
          "base_uri": "https://localhost:8080/"
        },
        "id": "-bhc9v4r886T",
        "outputId": "15b1ad4c-ab98-44c5-a2df-3cfb5f3c6210"
      },
      "execution_count": null,
      "outputs": [
        {
          "output_type": "stream",
          "name": "stdout",
          "text": [
            "2 is a prime number.\n",
            "3 is a prime number.\n",
            "5 is a prime number.\n",
            "7 is a prime number.\n",
            "11 is a prime number.\n",
            "13 is a prime number.\n",
            "17 is a prime number.\n",
            "19 is a prime number.\n",
            "23 is a prime number.\n",
            "29 is a prime number.\n",
            "31 is a prime number.\n",
            "37 is a prime number.\n",
            "41 is a prime number.\n",
            "43 is a prime number.\n",
            "47 is a prime number.\n",
            "53 is a prime number.\n",
            "59 is a prime number.\n",
            "61 is a prime number.\n",
            "67 is a prime number.\n",
            "71 is a prime number.\n",
            "73 is a prime number.\n",
            "79 is a prime number.\n",
            "83 is a prime number.\n",
            "89 is a prime number.\n",
            "97 is a prime number.\n",
            "101 is a prime number.\n",
            "103 is a prime number.\n",
            "107 is a prime number.\n",
            "109 is a prime number.\n",
            "113 is a prime number.\n",
            "127 is a prime number.\n",
            "131 is a prime number.\n",
            "137 is a prime number.\n",
            "139 is a prime number.\n",
            "149 is a prime number.\n",
            "151 is a prime number.\n",
            "157 is a prime number.\n",
            "163 is a prime number.\n",
            "167 is a prime number.\n",
            "173 is a prime number.\n",
            "179 is a prime number.\n",
            "181 is a prime number.\n",
            "191 is a prime number.\n",
            "193 is a prime number.\n",
            "197 is a prime number.\n",
            "199 is a prime number.\n"
          ]
        }
      ]
    },
    {
      "cell_type": "markdown",
      "source": [
        "Que 5  Create an iterator class in Python that generates the Fibonacci sequence up to a specified number of\n",
        "terms.\n",
        "\n"
      ],
      "metadata": {
        "id": "Z0Jy3PoPLRsP"
      }
    },
    {
      "cell_type": "code",
      "source": [
        "class FibonacciIterator:\n",
        "    def __init__(self, max_terms):\n",
        "        self.max_terms = max_terms\n",
        "        self.current_term = 0\n",
        "        self.a, self.b = 0, 1\n",
        "\n",
        "    def __iter__(self):\n",
        "        return self\n",
        "\n",
        "    def __next__(self):\n",
        "        if self.current_term >= self.max_terms:\n",
        "            raise StopIteration\n",
        "        if self.current_term == 0:\n",
        "            self.current_term += 1\n",
        "            return self.a\n",
        "        elif self.current_term == 1:\n",
        "            self.current_term += 1\n",
        "            return self.b\n",
        "        else:\n",
        "            self.current_term += 1\n",
        "            next_value = self.a + self.b\n",
        "            self.a, self.b = self.b, next_value\n",
        "            return next_value\n",
        "\n",
        "# Example usage:\n",
        "fib_iterator = FibonacciIterator(10)\n",
        "for number in fib_iterator:\n",
        "    print(number)\n"
      ],
      "metadata": {
        "colab": {
          "base_uri": "https://localhost:8080/"
        },
        "id": "_lMCCjwr9ESw",
        "outputId": "4cf924de-9f55-4778-d486-9f14d321b0e7"
      },
      "execution_count": null,
      "outputs": [
        {
          "output_type": "stream",
          "name": "stdout",
          "text": [
            "0\n",
            "1\n",
            "1\n",
            "2\n",
            "3\n",
            "5\n",
            "8\n",
            "13\n",
            "21\n",
            "34\n"
          ]
        }
      ]
    },
    {
      "cell_type": "markdown",
      "source": [
        "Que 6 Write a generator function in Python that yields the powers of 2 up to a given exponent."
      ],
      "metadata": {
        "id": "t-iPL0uILSUa"
      }
    },
    {
      "cell_type": "code",
      "source": [
        "def powers_of_2(max_exponent):\n",
        "    for exponent in range(max_exponent + 1):\n",
        "        yield 2 ** exponent\n",
        "\n",
        "# Example usage:\n",
        "for power in powers_of_2(10):\n",
        "    print(power)\n"
      ],
      "metadata": {
        "colab": {
          "base_uri": "https://localhost:8080/"
        },
        "id": "0Sij76c49TuS",
        "outputId": "3f8a2aa4-c671-4a64-af04-03f46846097d"
      },
      "execution_count": null,
      "outputs": [
        {
          "output_type": "stream",
          "name": "stdout",
          "text": [
            "1\n",
            "2\n",
            "4\n",
            "8\n",
            "16\n",
            "32\n",
            "64\n",
            "128\n",
            "256\n",
            "512\n",
            "1024\n"
          ]
        }
      ]
    },
    {
      "cell_type": "markdown",
      "source": [
        "Que 7  Implement a generator function that reads a file line by line and yields each line as a string"
      ],
      "metadata": {
        "id": "8w2WYgAbLTU9"
      }
    },
    {
      "cell_type": "code",
      "source": [
        "def read_file_line_by_line(file_path):\n",
        "  with open(file_path, 'r') as file:\n",
        "        for line in file:\n",
        "            yield line.strip()\n",
        "\n",
        "# Example usage:\n",
        "for line in read_file_line_by_line('example.txt'):\n",
        "    print(line)\n"
      ],
      "metadata": {
        "colab": {
          "base_uri": "https://localhost:8080/",
          "height": 315
        },
        "id": "xSL6D7qF9e0V",
        "outputId": "b7e90bf8-723d-4613-aa43-460436d12f87"
      },
      "execution_count": null,
      "outputs": [
        {
          "output_type": "error",
          "ename": "FileNotFoundError",
          "evalue": "[Errno 2] No such file or directory: 'example.txt'",
          "traceback": [
            "\u001b[0;31m---------------------------------------------------------------------------\u001b[0m",
            "\u001b[0;31mFileNotFoundError\u001b[0m                         Traceback (most recent call last)",
            "\u001b[0;32m<ipython-input-15-bc65fcd25613>\u001b[0m in \u001b[0;36m<cell line: 0>\u001b[0;34m()\u001b[0m\n\u001b[1;32m      5\u001b[0m \u001b[0;34m\u001b[0m\u001b[0m\n\u001b[1;32m      6\u001b[0m \u001b[0;31m# Example usage:\u001b[0m\u001b[0;34m\u001b[0m\u001b[0;34m\u001b[0m\u001b[0m\n\u001b[0;32m----> 7\u001b[0;31m \u001b[0;32mfor\u001b[0m \u001b[0mline\u001b[0m \u001b[0;32min\u001b[0m \u001b[0mread_file_line_by_line\u001b[0m\u001b[0;34m(\u001b[0m\u001b[0;34m'example.txt'\u001b[0m\u001b[0;34m)\u001b[0m\u001b[0;34m:\u001b[0m\u001b[0;34m\u001b[0m\u001b[0;34m\u001b[0m\u001b[0m\n\u001b[0m\u001b[1;32m      8\u001b[0m     \u001b[0mprint\u001b[0m\u001b[0;34m(\u001b[0m\u001b[0mline\u001b[0m\u001b[0;34m)\u001b[0m\u001b[0;34m\u001b[0m\u001b[0;34m\u001b[0m\u001b[0m\n",
            "\u001b[0;32m<ipython-input-15-bc65fcd25613>\u001b[0m in \u001b[0;36mread_file_line_by_line\u001b[0;34m(file_path)\u001b[0m\n\u001b[1;32m      1\u001b[0m \u001b[0;32mdef\u001b[0m \u001b[0mread_file_line_by_line\u001b[0m\u001b[0;34m(\u001b[0m\u001b[0mfile_path\u001b[0m\u001b[0;34m)\u001b[0m\u001b[0;34m:\u001b[0m\u001b[0;34m\u001b[0m\u001b[0;34m\u001b[0m\u001b[0m\n\u001b[0;32m----> 2\u001b[0;31m  \u001b[0;32mwith\u001b[0m \u001b[0mopen\u001b[0m\u001b[0;34m(\u001b[0m\u001b[0mfile_path\u001b[0m\u001b[0;34m,\u001b[0m \u001b[0;34m'r'\u001b[0m\u001b[0;34m)\u001b[0m \u001b[0;32mas\u001b[0m \u001b[0mfile\u001b[0m\u001b[0;34m:\u001b[0m\u001b[0;34m\u001b[0m\u001b[0;34m\u001b[0m\u001b[0m\n\u001b[0m\u001b[1;32m      3\u001b[0m         \u001b[0;32mfor\u001b[0m \u001b[0mline\u001b[0m \u001b[0;32min\u001b[0m \u001b[0mfile\u001b[0m\u001b[0;34m:\u001b[0m\u001b[0;34m\u001b[0m\u001b[0;34m\u001b[0m\u001b[0m\n\u001b[1;32m      4\u001b[0m             \u001b[0;32myield\u001b[0m \u001b[0mline\u001b[0m\u001b[0;34m.\u001b[0m\u001b[0mstrip\u001b[0m\u001b[0;34m(\u001b[0m\u001b[0;34m)\u001b[0m\u001b[0;34m\u001b[0m\u001b[0;34m\u001b[0m\u001b[0m\n\u001b[1;32m      5\u001b[0m \u001b[0;34m\u001b[0m\u001b[0m\n",
            "\u001b[0;31mFileNotFoundError\u001b[0m: [Errno 2] No such file or directory: 'example.txt'"
          ]
        }
      ]
    },
    {
      "cell_type": "markdown",
      "source": [
        "Que 8 Use a lambda function in Python to sort a list of tuples based on the second element of each tuple."
      ],
      "metadata": {
        "id": "iIYm1nO_LT0t"
      }
    },
    {
      "cell_type": "code",
      "source": [
        "# Sample list of tuples\n",
        "tuple_list = [(1, 4), (3, 1), (5, 2), (7, 3)]\n",
        "\n",
        "# Sorting using a lambda function\n",
        "sorted_list = sorted(tuple_list, key=lambda x: x[1])\n",
        "\n",
        "# Print the sorted list\n",
        "print(sorted_list)\n"
      ],
      "metadata": {
        "colab": {
          "base_uri": "https://localhost:8080/"
        },
        "id": "HWIRE3qV-RP0",
        "outputId": "80c67fb9-2b8b-4b7d-e11c-d9cf52ca809a"
      },
      "execution_count": null,
      "outputs": [
        {
          "output_type": "stream",
          "name": "stdout",
          "text": [
            "[(3, 1), (5, 2), (7, 3), (1, 4)]\n"
          ]
        }
      ]
    },
    {
      "cell_type": "markdown",
      "source": [
        "Que 9 Write a Python program that uses `map()` to convert a list of temperatures from Celsius to Fahrenheit."
      ],
      "metadata": {
        "id": "2i4KOY5HLVFv"
      }
    },
    {
      "cell_type": "code",
      "source": [
        "# Function to convert Celsius to Fahrenheit\n",
        "def celsius_to_fahrenheit(celsius):\n",
        "    return (celsius * 9/5) + 32\n",
        "\n",
        "# List of temperatures in Celsius\n",
        "celsius_temperatures = [0, 20, 30, 40, 100]\n",
        "\n",
        "# Convert to Fahrenheit using map()\n",
        "fahrenheit_temperatures = list(map(celsius_to_fahrenheit, celsius_temperatures))\n",
        "\n",
        "# Print the converted temperatures\n",
        "print(fahrenheit_temperatures)\n"
      ],
      "metadata": {
        "colab": {
          "base_uri": "https://localhost:8080/"
        },
        "id": "HZ9c9X4n-YTL",
        "outputId": "10281dcd-a6f1-4204-d0c7-a59a4724c198"
      },
      "execution_count": null,
      "outputs": [
        {
          "output_type": "stream",
          "name": "stdout",
          "text": [
            "[32.0, 68.0, 86.0, 104.0, 212.0]\n"
          ]
        }
      ]
    },
    {
      "cell_type": "markdown",
      "source": [
        "Que 10  Create a Python program that uses `filter()` to remove all the vowels from a given string."
      ],
      "metadata": {
        "id": "UP7sCVzOLW_v"
      }
    },
    {
      "cell_type": "code",
      "source": [
        "def remove_vowels(input_string):\n",
        "    vowels = \"aeiouAEIOU\"\n",
        "    return \"\".join(filter(lambda char: char not in vowels, input_string))\n",
        "\n",
        "# Example usage:\n",
        "sample_string = \"Hello, world!\"\n",
        "result_string = remove_vowels(sample_string)\n",
        "print(result_string)  # Output will be \"Hll, wrld!\"\n"
      ],
      "metadata": {
        "colab": {
          "base_uri": "https://localhost:8080/"
        },
        "id": "yW9gKatA-e4p",
        "outputId": "a7691107-8244-4f7d-f49a-f9470cf31bda"
      },
      "execution_count": null,
      "outputs": [
        {
          "output_type": "stream",
          "name": "stdout",
          "text": [
            "Hll, wrld!\n"
          ]
        }
      ]
    },
    {
      "cell_type": "markdown",
      "source": [
        "Que 11  Write a Python program, which returns a list with 2-tuples. Each tuple consists of the order number and the\n",
        "product of the price per item and the quantity. The product should be increased by 10,- € if the value of the\n",
        "order is smaller than 100,00 €."
      ],
      "metadata": {
        "id": "WboAMOWoLXmz"
      }
    },
    {
      "cell_type": "code",
      "source": [
        "# Our initial data\n",
        "books = [\n",
        "    [\"Learning Python, Mark Lutz\", 4, 40.95],\n",
        "    [\"Programming Python, Mark Lutz\", 5, 56.80],\n",
        "    [\"Head First Python, Paul Barry\", 3, 32.95],\n",
        "    [\"Einführung in Python3, Bernd Klein\", 3, 24.99]\n",
        "]\n",
        "\n",
        "# Use map + lambda to produce the desired list of 2-tuples\n",
        "result = list(map(\n",
        "    lambda item: (\n",
        "        # If total cost > 100, increase by 10%\n",
        "        round(item[1] * item[2] * 1.1, 2),  # final cost\n",
        "        item[1]                             # quantity\n",
        "    ) if (item[1] * item[2] > 100) else (\n",
        "        # Otherwise, just use the original total\n",
        "        round(item[1] * item[2], 2),\n",
        "        item[1]\n",
        "    ),\n",
        "    books\n",
        "))\n",
        "\n",
        "print(result)"
      ],
      "metadata": {
        "colab": {
          "base_uri": "https://localhost:8080/"
        },
        "id": "iUSDS2aHh0rG",
        "outputId": "7c82eb4d-64fc-453e-f8bd-7164af55d48c"
      },
      "execution_count": 1,
      "outputs": [
        {
          "output_type": "stream",
          "name": "stdout",
          "text": [
            "[(180.18, 4), (312.4, 5), (98.85, 3), (74.97, 3)]\n"
          ]
        }
      ]
    },
    {
      "cell_type": "markdown",
      "source": [],
      "metadata": {
        "id": "uFrVShfvLNLE"
      }
    }
  ]
}